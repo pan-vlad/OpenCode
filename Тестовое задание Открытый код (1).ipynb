{
 "cells": [
  {
   "cell_type": "code",
   "execution_count": null,
   "metadata": {},
   "outputs": [],
   "source": [
    "I задание (сформировать исходные данные)"
   ]
  },
  {
   "cell_type": "code",
   "execution_count": 1,
   "metadata": {},
   "outputs": [
    {
     "name": "stdout",
     "output_type": "stream",
     "text": [
      "Введите N[500; 1000]: 400\n",
      "Введите диапазон от 500 до 1000\n",
      "Введите N[500; 1000]: 1001\n",
      "Введите диапазон от 500 до 1000\n",
      "Введите N[500; 1000]: 556\n",
      "Правильный диапазон\n"
     ]
    }
   ],
   "source": [
    "#Проверка пользовательского ввода на диапазон:\n",
    "while True:\n",
    "    N = int(input(\"Введите N[500; 1000]: \"))\n",
    "    if 500 < N < 1000:\n",
    "        print(\"Правильный диапазон\")\n",
    "        break\n",
    "    else:\n",
    "        print(\"Введите диапазон от 500 до 1000\")\n",
    "\n",
    "        "
   ]
  },
  {
   "cell_type": "code",
   "execution_count": 2,
   "metadata": {},
   "outputs": [
    {
     "name": "stdout",
     "output_type": "stream",
     "text": [
      "Введите m[10; 50]: 9\n",
      "Введите диапазон от 10 до 50\n",
      "Введите m[10; 50]: 52\n",
      "Введите диапазон от 10 до 50\n",
      "Введите m[10; 50]: 14\n",
      "Правильный диапазон\n"
     ]
    }
   ],
   "source": [
    "while True:\n",
    "    m = int(input(\"Введите m[10; 50]: \"))\n",
    "    if 10 < m < 50:\n",
    "        print(\"Правильный диапазон\")\n",
    "        break\n",
    "    else:\n",
    "        print(\"Введите диапазон от 10 до 50\")"
   ]
  },
  {
   "cell_type": "code",
   "execution_count": 3,
   "metadata": {},
   "outputs": [
    {
     "name": "stdout",
     "output_type": "stream",
     "text": [
      "556 14\n"
     ]
    }
   ],
   "source": [
    "print(N, m)\n"
   ]
  },
  {
   "cell_type": "code",
   "execution_count": 20,
   "metadata": {},
   "outputs": [
    {
     "data": {
      "text/plain": [
       "[[0.3138503283166283,\n",
       "  0.47591788627993004,\n",
       "  0.19272099854371239,\n",
       "  0.23992838152988805,\n",
       "  -0.10196446034934792,\n",
       "  -0.49520591477006515,\n",
       "  0.34511588444289387,\n",
       "  -0.030017106185897813,\n",
       "  -0.2620977361081991,\n",
       "  -0.4102716336404708,\n",
       "  0.7773642177061042,\n",
       "  -0.5592283313268627,\n",
       "  0.7127988542014765,\n",
       "  -0.23894786754706732],\n",
       " [0.47078890821134434,\n",
       "  0.6754327569318395,\n",
       "  -0.5117814424688012,\n",
       "  0.7464234517133381,\n",
       "  -0.4169583818648097,\n",
       "  -0.8035502242260848,\n",
       "  0.8165916773667676,\n",
       "  -0.20005767109338946,\n",
       "  -0.28839341172044364,\n",
       "  0.023470589376439754,\n",
       "  0.7761374136658004,\n",
       "  0.8357712801699737,\n",
       "  0.46659148775616943,\n",
       "  -0.338052412126683]]"
      ]
     },
     "execution_count": 20,
     "metadata": {},
     "output_type": "execute_result"
    }
   ],
   "source": [
    "#Заполнение списка случайными числами от -1 до 1\n",
    "from random import uniform\n",
    "import numpy as np\n",
    "\n",
    "d = [[uniform(-1, 1) for j in range(m)] for i in range(N)]\n",
    "d[:2]"
   ]
  },
  {
   "cell_type": "code",
   "execution_count": 21,
   "metadata": {},
   "outputs": [],
   "source": [
    "# Формирование из списка файл vectors.csv\n",
    "import pandas as pd\n",
    "frame = pd.DataFrame(d)\n",
    "frame.to_csv(\"vectors.csv\", index = False)"
   ]
  },
  {
   "cell_type": "code",
   "execution_count": null,
   "metadata": {},
   "outputs": [],
   "source": []
  },
  {
   "cell_type": "code",
   "execution_count": null,
   "metadata": {},
   "outputs": [],
   "source": [
    "II задание"
   ]
  },
  {
   "cell_type": "code",
   "execution_count": 22,
   "metadata": {
    "scrolled": true
   },
   "outputs": [
    {
     "data": {
      "text/html": [
       "<div>\n",
       "<style scoped>\n",
       "    .dataframe tbody tr th:only-of-type {\n",
       "        vertical-align: middle;\n",
       "    }\n",
       "\n",
       "    .dataframe tbody tr th {\n",
       "        vertical-align: top;\n",
       "    }\n",
       "\n",
       "    .dataframe thead th {\n",
       "        text-align: right;\n",
       "    }\n",
       "</style>\n",
       "<table border=\"1\" class=\"dataframe\">\n",
       "  <thead>\n",
       "    <tr style=\"text-align: right;\">\n",
       "      <th></th>\n",
       "      <th>0</th>\n",
       "      <th>1</th>\n",
       "      <th>2</th>\n",
       "      <th>3</th>\n",
       "      <th>4</th>\n",
       "      <th>5</th>\n",
       "      <th>6</th>\n",
       "      <th>7</th>\n",
       "      <th>8</th>\n",
       "      <th>9</th>\n",
       "      <th>10</th>\n",
       "      <th>11</th>\n",
       "      <th>12</th>\n",
       "      <th>13</th>\n",
       "    </tr>\n",
       "  </thead>\n",
       "  <tbody>\n",
       "    <tr>\n",
       "      <th>0</th>\n",
       "      <td>0.313850</td>\n",
       "      <td>0.475918</td>\n",
       "      <td>0.192721</td>\n",
       "      <td>0.239928</td>\n",
       "      <td>-0.101964</td>\n",
       "      <td>-0.495206</td>\n",
       "      <td>0.345116</td>\n",
       "      <td>-0.030017</td>\n",
       "      <td>-0.262098</td>\n",
       "      <td>-0.410272</td>\n",
       "      <td>0.777364</td>\n",
       "      <td>-0.559228</td>\n",
       "      <td>0.712799</td>\n",
       "      <td>-0.238948</td>\n",
       "    </tr>\n",
       "    <tr>\n",
       "      <th>1</th>\n",
       "      <td>0.470789</td>\n",
       "      <td>0.675433</td>\n",
       "      <td>-0.511781</td>\n",
       "      <td>0.746423</td>\n",
       "      <td>-0.416958</td>\n",
       "      <td>-0.803550</td>\n",
       "      <td>0.816592</td>\n",
       "      <td>-0.200058</td>\n",
       "      <td>-0.288393</td>\n",
       "      <td>0.023471</td>\n",
       "      <td>0.776137</td>\n",
       "      <td>0.835771</td>\n",
       "      <td>0.466591</td>\n",
       "      <td>-0.338052</td>\n",
       "    </tr>\n",
       "    <tr>\n",
       "      <th>2</th>\n",
       "      <td>0.522648</td>\n",
       "      <td>-0.319879</td>\n",
       "      <td>0.267711</td>\n",
       "      <td>-0.021013</td>\n",
       "      <td>-0.528949</td>\n",
       "      <td>0.439904</td>\n",
       "      <td>-0.291038</td>\n",
       "      <td>-0.121328</td>\n",
       "      <td>0.866205</td>\n",
       "      <td>0.275751</td>\n",
       "      <td>-0.324594</td>\n",
       "      <td>-0.471987</td>\n",
       "      <td>-0.390992</td>\n",
       "      <td>0.198636</td>\n",
       "    </tr>\n",
       "    <tr>\n",
       "      <th>3</th>\n",
       "      <td>0.504064</td>\n",
       "      <td>0.786517</td>\n",
       "      <td>0.780646</td>\n",
       "      <td>-0.265258</td>\n",
       "      <td>-0.238555</td>\n",
       "      <td>-0.637976</td>\n",
       "      <td>-0.764378</td>\n",
       "      <td>-0.938515</td>\n",
       "      <td>0.372979</td>\n",
       "      <td>-0.107781</td>\n",
       "      <td>0.941791</td>\n",
       "      <td>-0.672612</td>\n",
       "      <td>-0.706181</td>\n",
       "      <td>-0.463356</td>\n",
       "    </tr>\n",
       "    <tr>\n",
       "      <th>4</th>\n",
       "      <td>0.381213</td>\n",
       "      <td>0.952061</td>\n",
       "      <td>-0.719131</td>\n",
       "      <td>0.908850</td>\n",
       "      <td>-0.856126</td>\n",
       "      <td>-0.593552</td>\n",
       "      <td>0.733608</td>\n",
       "      <td>0.464420</td>\n",
       "      <td>-0.368286</td>\n",
       "      <td>0.922684</td>\n",
       "      <td>0.683110</td>\n",
       "      <td>-0.101653</td>\n",
       "      <td>-0.291776</td>\n",
       "      <td>-0.090844</td>\n",
       "    </tr>\n",
       "  </tbody>\n",
       "</table>\n",
       "</div>"
      ],
      "text/plain": [
       "          0         1         2         3         4         5         6  \\\n",
       "0  0.313850  0.475918  0.192721  0.239928 -0.101964 -0.495206  0.345116   \n",
       "1  0.470789  0.675433 -0.511781  0.746423 -0.416958 -0.803550  0.816592   \n",
       "2  0.522648 -0.319879  0.267711 -0.021013 -0.528949  0.439904 -0.291038   \n",
       "3  0.504064  0.786517  0.780646 -0.265258 -0.238555 -0.637976 -0.764378   \n",
       "4  0.381213  0.952061 -0.719131  0.908850 -0.856126 -0.593552  0.733608   \n",
       "\n",
       "          7         8         9        10        11        12        13  \n",
       "0 -0.030017 -0.262098 -0.410272  0.777364 -0.559228  0.712799 -0.238948  \n",
       "1 -0.200058 -0.288393  0.023471  0.776137  0.835771  0.466591 -0.338052  \n",
       "2 -0.121328  0.866205  0.275751 -0.324594 -0.471987 -0.390992  0.198636  \n",
       "3 -0.938515  0.372979 -0.107781  0.941791 -0.672612 -0.706181 -0.463356  \n",
       "4  0.464420 -0.368286  0.922684  0.683110 -0.101653 -0.291776 -0.090844  "
      ]
     },
     "execution_count": 22,
     "metadata": {},
     "output_type": "execute_result"
    }
   ],
   "source": [
    "# Чтение vectors.csv и вывод первых 5 строк из N\n",
    "df = pd.read_csv(\"vectors.csv\")\n",
    "df.head()"
   ]
  },
  {
   "cell_type": "code",
   "execution_count": 24,
   "metadata": {},
   "outputs": [
    {
     "data": {
      "text/plain": [
       "[[0.3138503283166283,\n",
       "  0.47591788627993004,\n",
       "  0.19272099854371239,\n",
       "  0.23992838152988805,\n",
       "  -0.10196446034934792,\n",
       "  -0.49520591477006515,\n",
       "  0.34511588444289387,\n",
       "  -0.030017106185897813,\n",
       "  -0.2620977361081991,\n",
       "  -0.4102716336404708,\n",
       "  0.7773642177061042,\n",
       "  -0.5592283313268627,\n",
       "  0.7127988542014765,\n",
       "  -0.23894786754706732],\n",
       " [0.47078890821134434,\n",
       "  0.6754327569318395,\n",
       "  -0.5117814424688012,\n",
       "  0.7464234517133381,\n",
       "  -0.4169583818648097,\n",
       "  -0.8035502242260848,\n",
       "  0.8165916773667676,\n",
       "  -0.20005767109338946,\n",
       "  -0.28839341172044364,\n",
       "  0.023470589376439754,\n",
       "  0.7761374136658004,\n",
       "  0.8357712801699737,\n",
       "  0.46659148775616943,\n",
       "  -0.338052412126683]]"
      ]
     },
     "execution_count": 24,
     "metadata": {},
     "output_type": "execute_result"
    }
   ],
   "source": [
    "# возвращение к списку векторов из датафрейма\n",
    "import csv\n",
    "with open('vectors.csv', 'r') as file:\n",
    "        read = csv.reader(file)\n",
    "        \n",
    "        vec_list = []\n",
    "        for line in read:\n",
    "            vec_line = []\n",
    "            for i in line:\n",
    "                vec_line.append(float(i))\n",
    "            vec_list.append(vec_line)\n",
    "vec_list = vec_list[1:]\n",
    "vec_list[:2]"
   ]
  },
  {
   "cell_type": "code",
   "execution_count": 26,
   "metadata": {},
   "outputs": [
    {
     "name": "stdout",
     "output_type": "stream",
     "text": [
      "Максимальное евклидовое расстояние:  5.001893037058484 у пары (355, 506)\n",
      "Минимальное евклидовое расстояние:  0.8715166301462701 у пары (206, 212)\n",
      "Список 20 евклидовых расстояний: \n"
     ]
    },
    {
     "data": {
      "text/plain": [
       "[1.8622798998895145,\n",
       " 2.5682347331040076,\n",
       " 2.3296963140101115,\n",
       " 2.349769546486874,\n",
       " 2.157996478875229,\n",
       " 3.2792019213777333,\n",
       " 2.4588957272919187,\n",
       " 2.7457066223503683,\n",
       " 3.0980899466052763,\n",
       " 2.1097968814869508,\n",
       " 2.507159910334068,\n",
       " 2.2087724967813536,\n",
       " 2.8356065067053344,\n",
       " 2.044526674858063,\n",
       " 2.7537637597003566,\n",
       " 2.576709005814733,\n",
       " 2.5698980458554415,\n",
       " 2.5462895461966566,\n",
       " 2.1033834896196186,\n",
       " 2.2964600686864944]"
      ]
     },
     "execution_count": 26,
     "metadata": {},
     "output_type": "execute_result"
    }
   ],
   "source": [
    "from scipy.spatial import distance\n",
    "\n",
    "e = []\n",
    "maxim, minim = 0, 0\n",
    "pairs_max, pairs_min = (0, 0), (0, 0)\n",
    "\n",
    "# max, его пары и список всех евкл-ых расстояний\n",
    "for i in range(len(vec_list)):\n",
    "    for j in range(i + 1, len(vec_list)):\n",
    "        ev = distance.euclidean(vec_list[i], vec_list[j])\n",
    "        if ev > maxim:\n",
    "            pairs_max = (i, j)\n",
    "            maxim = ev\n",
    "        e.append(ev)\n",
    "        \n",
    "# 2-ой цикл для поиска пар минимума евкл-ого расстояния\n",
    "# просто минимум есть в е\n",
    "minim = maxim \n",
    "\n",
    "for i in range(len(vec_list)):\n",
    "    for j in range(i + 1, len(vec_list)):\n",
    "        ev = distance.euclidean(vec_list[i], vec_list[j])\n",
    "        if ev < minim:\n",
    "            pairs_min = (i, j)\n",
    "            minim = ev\n",
    "            \n",
    "print(\"Максимальное евклидовое расстояние: \", max(e), \"у пары\", pairs_max)\n",
    "print(\"Минимальное евклидовое расстояние: \", min(e), \"у пары\", pairs_min)\n",
    "print(\"Список 20 евклидовых расстояний: \")\n",
    "e[:20] # len(e) > m*N, поэтому можно попробовать через запись и чтение из файла\n"
   ]
  },
  {
   "cell_type": "code",
   "execution_count": 27,
   "metadata": {},
   "outputs": [],
   "source": [
    "#чтобы не использовать структуру данных больше m*N (список е) можно записать в файл и извлечь из файла\n",
    "frame_e = pd.DataFrame(e)\n",
    "frame_e.to_csv(\"eucledian.txt\", index = False)"
   ]
  },
  {
   "cell_type": "code",
   "execution_count": 28,
   "metadata": {},
   "outputs": [
    {
     "data": {
      "text/plain": [
       "(array([1.0000e+00, 0.0000e+00, 0.0000e+00, 0.0000e+00, 0.0000e+00,\n",
       "        0.0000e+00, 0.0000e+00, 0.0000e+00, 1.0000e+00, 0.0000e+00,\n",
       "        2.0000e+00, 4.0000e+00, 2.3000e+01, 4.1000e+01, 8.6000e+01,\n",
       "        1.5500e+02, 2.9800e+02, 5.1200e+02, 8.2400e+02, 1.2860e+03,\n",
       "        1.9030e+03, 2.8380e+03, 3.6890e+03, 4.9990e+03, 6.3970e+03,\n",
       "        7.9420e+03, 9.3620e+03, 1.0759e+04, 1.1607e+04, 1.2187e+04,\n",
       "        1.2595e+04, 1.2084e+04, 1.1257e+04, 1.0129e+04, 8.5270e+03,\n",
       "        7.0390e+03, 5.4810e+03, 4.1540e+03, 2.8790e+03, 1.9960e+03,\n",
       "        1.3530e+03, 8.6900e+02, 5.0200e+02, 2.6100e+02, 1.3400e+02,\n",
       "        7.8000e+01, 1.8000e+01, 1.3000e+01, 4.0000e+00]),\n",
       " array([0. , 0.1, 0.2, 0.3, 0.4, 0.5, 0.6, 0.7, 0.8, 0.9, 1. , 1.1, 1.2,\n",
       "        1.3, 1.4, 1.5, 1.6, 1.7, 1.8, 1.9, 2. , 2.1, 2.2, 2.3, 2.4, 2.5,\n",
       "        2.6, 2.7, 2.8, 2.9, 3. , 3.1, 3.2, 3.3, 3.4, 3.5, 3.6, 3.7, 3.8,\n",
       "        3.9, 4. , 4.1, 4.2, 4.3, 4.4, 4.5, 4.6, 4.7, 4.8, 4.9]),\n",
       " <BarContainer object of 49 artists>)"
      ]
     },
     "execution_count": 28,
     "metadata": {},
     "output_type": "execute_result"
    },
    {
     "data": {
      "image/png": "[encoded data removed]",
      "text/plain": [
       "<Figure size 432x288 with 1 Axes>"
      ]
     },
     "metadata": {
      "needs_background": "light"
     },
     "output_type": "display_data"
    }
   ],
   "source": [
    "import matplotlib.pyplot as plt\n",
    "\n",
    "#with open(\"eucledian.txt\") as eucl:\n",
    "\n",
    "b_rul = []\n",
    "x = 0.0\n",
    "for i in range(int(round(maxim) * 10)):\n",
    "    b_rul.append(round(x, 2))\n",
    "    x += 0.1\n",
    "    \n",
    "colors = [\"#988ed5\"]\n",
    "plt.ylabel(\"Количество\")\n",
    "plt.xlabel(\"Евклидово(-а) расстояния\")\n",
    "plt.title(\"Распределение расстояний\")\n",
    "\n",
    "plt.hist(np.loadtxt(\"eucledian.txt\"), bins = b_rul, color=colors)\n",
    "\n",
    "#plt.xticks([i/10 for i in range(0, 1)])"
   ]
  },
  {
   "cell_type": "code",
   "execution_count": null,
   "metadata": {},
   "outputs": [],
   "source": []
  }
 ],
 "metadata": {
  "kernelspec": {
   "display_name": "Python 3",
   "language": "python",
   "name": "python3"
  },
  "language_info": {
   "codemirror_mode": {
    "name": "ipython",
    "version": 3
   },
   "file_extension": ".py",
   "mimetype": "text/x-python",
   "name": "python",
   "nbconvert_exporter": "python",
   "pygments_lexer": "ipython3",
   "version": "3.8.5"
  }
 },
 "nbformat": 4,
 "nbformat_minor": 4
}
